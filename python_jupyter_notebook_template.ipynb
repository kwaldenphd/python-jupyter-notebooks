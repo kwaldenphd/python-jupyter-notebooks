{
  "cells": [
    {
      "cell_type": "markdown",
      "metadata": {
        "id": "view-in-github",
        "colab_type": "text"
      },
      "source": [
        "<a href=\"https://colab.research.google.com/github/kwaldenphd/python-jupyter-notebooks/blob/main/python_jupyter_notebook_template.ipynb\" target=\"_parent\"><img src=\"https://colab.research.google.com/assets/colab-badge.svg\" alt=\"Open In Colab\"/></a>"
      ]
    },
    {
      "cell_type": "markdown",
      "id": "46cd8993",
      "metadata": {
        "id": "46cd8993"
      },
      "source": [
        "# Python in Jupyter Notebooks"
      ]
    },
    {
      "cell_type": "markdown",
      "id": "2c9311dd",
      "metadata": {
        "id": "2c9311dd"
      },
      "source": [
        "Student Name: **Enter Your Name Here (Double click to edit)**\n",
        "<br>\n",
        "Net ID: **Enter Your NetID Here (Double click to edit)**\n",
        "<br>"
      ]
    },
    {
      "cell_type": "markdown",
      "id": "6d25268a",
      "metadata": {
        "id": "6d25268a"
      },
      "source": [
        "NOTE: As Q6 specifes, remember to submit two versions of your lab notebook on Canvas- a Jupyter Notebook (`.ipynb`) file and a PDF (a process we work through in an earlier section of the lab)."
      ]
    },
    {
      "cell_type": "markdown",
      "source": [
        "## Lab Notebook Questions"
      ],
      "metadata": {
        "id": "fZl6Yq0F6Ts2"
      },
      "id": "fZl6Yq0F6Ts2"
    },
    {
      "cell_type": "markdown",
      "id": "492920bc",
      "metadata": {
        "id": "492920bc"
      },
      "source": [
        "### **Q1: Use the Anaconda or Jupyter terminal to install the four libraries mentioned in step 55 (numpy, scikit-learn, pandas, matplotlib). Describe your experience installing these libraries using the available/provided documentation. What did you expect to happen? What challenges did you face? How did you solve them?**"
      ]
    },
    {
      "cell_type": "markdown",
      "id": "8a05bd3b",
      "metadata": {
        "id": "8a05bd3b"
      },
      "source": [
        "**Answer**: Your answer here (double click to edit)"
      ]
    },
    {
      "cell_type": "code",
      "execution_count": null,
      "id": "48d624db",
      "metadata": {
        "id": "48d624db"
      },
      "outputs": [],
      "source": [
        "# your codes here (if needed)"
      ]
    },
    {
      "cell_type": "markdown",
      "id": "eb2ab8ba",
      "metadata": {
        "id": "eb2ab8ba"
      },
      "source": [
        "### **Q2: Write import statements for each of the libraries you installed in Q1. What did you expect to happen? What challenges did you face (if any)?**"
      ]
    },
    {
      "cell_type": "markdown",
      "id": "83959bba",
      "metadata": {
        "id": "83959bba"
      },
      "source": [
        "**Answer**: Your answer here (double click to edit)"
      ]
    },
    {
      "cell_type": "code",
      "execution_count": null,
      "id": "8134f31d",
      "metadata": {
        "id": "8134f31d"
      },
      "outputs": [],
      "source": [
        "# numpy import statement\n",
        "\n",
        "# scikit-learn import statement\n",
        "\n",
        "# pandas import statement\n",
        "\n",
        "# matplotlib import statement"
      ]
    },
    {
      "cell_type": "markdown",
      "id": "affc4e83",
      "metadata": {
        "id": "affc4e83"
      },
      "source": [
        "### <strong>Q3: In a markdown cell, add text that includes the following style or formatting components:\n",
        "- Heading (h1, h2, h3, etc)\n",
        "- Italics or bold text formatting\n",
        "- Unordered (or bulleted point) list\n",
        "- Link\n",
        "\n",
        "NOTE: You will want to reference Adam Pritchard's [Markdown Cheatsheet](https://github.com/adam-p/markdown-here/wiki/Markdown-Cheatsheet) resource when working on this question.</strong>"
      ]
    },
    {
      "cell_type": "markdown",
      "id": "26a56e28",
      "metadata": {
        "id": "26a56e28"
      },
      "source": [
        "**Answer**: Your answer here (double click to edit)"
      ]
    },
    {
      "cell_type": "code",
      "execution_count": null,
      "id": "3428094c",
      "metadata": {
        "id": "3428094c"
      },
      "outputs": [],
      "source": [
        "# your codes here (if needed)"
      ]
    },
    {
      "cell_type": "markdown",
      "id": "a9ee0ed0",
      "metadata": {
        "id": "a9ee0ed0"
      },
      "source": [
        "### <strong>Q4: In a code cell, write a simple Python program (or programs) that includes the following functions:\n",
        "- `input()`\n",
        "- `print()`\n",
        "\n",
        "You are welcome to use a program (or programs) you've written for previous labs- original code is not required for this question. The main point for this question is to see how a Jupyter Notebook code cell executes a program.</strong>"
      ]
    },
    {
      "cell_type": "markdown",
      "id": "641672d2",
      "metadata": {
        "id": "641672d2"
      },
      "source": [
        "**Answer**: Your answer here (double click to edit)"
      ]
    },
    {
      "cell_type": "code",
      "execution_count": null,
      "id": "fa4e9ccc",
      "metadata": {
        "id": "fa4e9ccc"
      },
      "outputs": [],
      "source": [
        "# input program\n",
        "\n",
        "# print program"
      ]
    },
    {
      "cell_type": "markdown",
      "id": "71939599",
      "metadata": {
        "id": "71939599"
      },
      "source": [
        "### **Q5: Compare your experience working in different Python IDEs. What seems appealing about each? What seems challenging? Based on this experience, what is your preference, or are there situations in which you'd prefer one over the other?**"
      ]
    },
    {
      "cell_type": "markdown",
      "id": "7e425d7f",
      "metadata": {
        "id": "7e425d7f"
      },
      "source": [
        "**Answer**: Your answer here (double click to edit)"
      ]
    },
    {
      "cell_type": "code",
      "execution_count": null,
      "id": "764a1c9a",
      "metadata": {
        "id": "764a1c9a"
      },
      "outputs": [],
      "source": [
        "# your codes here (if needed)"
      ]
    },
    {
      "cell_type": "markdown",
      "id": "1b121d2a",
      "metadata": {
        "id": "1b121d2a"
      },
      "source": [
        "### **Q6: After working through the previous steps, export your notebook for this lab as a PDF. Submit both the Jupyter Notebook (.ipynb) and PDF file on Canvas.**"
      ]
    },
    {
      "cell_type": "markdown",
      "id": "6eed3320",
      "metadata": {
        "id": "6eed3320"
      },
      "source": [
        "**Answer**: Your answer here (double click to edit)"
      ]
    },
    {
      "cell_type": "code",
      "execution_count": null,
      "id": "e466db11",
      "metadata": {
        "id": "e466db11"
      },
      "outputs": [],
      "source": [
        "# your codes here (if needed)"
      ]
    },
    {
      "cell_type": "markdown",
      "id": "9a20b96b",
      "metadata": {
        "id": "9a20b96b"
      },
      "source": [
        "### OPTIONAL SPYDER QUESTIONS"
      ]
    },
    {
      "cell_type": "markdown",
      "id": "024323c5",
      "metadata": {
        "id": "024323c5"
      },
      "source": [
        "**QA: How is Spyder different than previous IDEs? What do you see as strengths/advantages? What do you see as possible challenges?**"
      ]
    },
    {
      "cell_type": "markdown",
      "id": "16cb436d",
      "metadata": {
        "id": "16cb436d"
      },
      "source": [
        "**Answer**: Your answer here (double click to edit)"
      ]
    },
    {
      "cell_type": "code",
      "execution_count": null,
      "id": "d52217f8",
      "metadata": {
        "id": "d52217f8"
      },
      "outputs": [],
      "source": [
        "# your codes here (if needed)"
      ]
    },
    {
      "cell_type": "markdown",
      "id": "51739499",
      "metadata": {
        "id": "51739499"
      },
      "source": [
        "**QB: What type of error does this program return (syntax, runtime, semantic) and why? How would we go about modifying the program to address this error?**"
      ]
    },
    {
      "cell_type": "markdown",
      "id": "f6ebdf81",
      "metadata": {
        "id": "f6ebdf81"
      },
      "source": [
        "**Answer**: Your answer here (double click to edit)"
      ]
    },
    {
      "cell_type": "code",
      "execution_count": null,
      "id": "7c8526a2",
      "metadata": {
        "id": "7c8526a2"
      },
      "outputs": [],
      "source": [
        "# your codes here (if needed)"
      ]
    },
    {
      "cell_type": "markdown",
      "id": "c34c409d",
      "metadata": {
        "id": "c34c409d"
      },
      "source": [
        "**QC: What happens when we run this program? What kinds of log messages do we get, and what information do they give us?**"
      ]
    },
    {
      "cell_type": "markdown",
      "id": "2c1fc914",
      "metadata": {
        "id": "2c1fc914"
      },
      "source": [
        "**Answer**: Your answer here (double click to edit)"
      ]
    },
    {
      "cell_type": "code",
      "execution_count": null,
      "id": "6b687c14",
      "metadata": {
        "id": "6b687c14"
      },
      "outputs": [],
      "source": [
        "# your codes here (if needed)"
      ]
    },
    {
      "cell_type": "markdown",
      "id": "db6454d0",
      "metadata": {
        "id": "db6454d0"
      },
      "source": [
        "**QD: Is this program doing what we expect? Where would you go next with debugging or addressing the error?**"
      ]
    },
    {
      "cell_type": "markdown",
      "id": "c02039ce",
      "metadata": {
        "id": "c02039ce"
      },
      "source": [
        "**Answer**: Your answer here (double click to edit)"
      ]
    },
    {
      "cell_type": "code",
      "execution_count": null,
      "id": "c9e4ad9a",
      "metadata": {
        "id": "c9e4ad9a"
      },
      "outputs": [],
      "source": [
        "# your codes here (if needed)"
      ]
    },
    {
      "cell_type": "markdown",
      "id": "d0a37cb9",
      "metadata": {
        "id": "d0a37cb9"
      },
      "source": [
        "**QE: What are your thoughts on this approach to identifying what's happening in your program? What seems appealing? What seems challenging? When or how could this approach be useful?**"
      ]
    },
    {
      "cell_type": "markdown",
      "id": "4986893a",
      "metadata": {
        "id": "4986893a"
      },
      "source": [
        "**Answer**: Your answer here (double click to edit)"
      ]
    },
    {
      "cell_type": "code",
      "execution_count": null,
      "id": "07260b80",
      "metadata": {
        "id": "07260b80"
      },
      "outputs": [],
      "source": [
        "# your codes here (if needed)"
      ]
    }
  ],
  "metadata": {
    "kernelspec": {
      "display_name": "Python 3",
      "language": "python",
      "name": "python3"
    },
    "language_info": {
      "codemirror_mode": {
        "name": "ipython",
        "version": 3
      },
      "file_extension": ".py",
      "mimetype": "text/x-python",
      "name": "python",
      "nbconvert_exporter": "python",
      "pygments_lexer": "ipython3",
      "version": "3.8.8"
    },
    "colab": {
      "name": "python-jupyter-notebook-template.ipynb",
      "provenance": [],
      "toc_visible": true,
      "include_colab_link": true
    }
  },
  "nbformat": 4,
  "nbformat_minor": 5
}