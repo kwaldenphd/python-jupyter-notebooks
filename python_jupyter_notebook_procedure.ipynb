{
  "cells": [
    {
      "cell_type": "markdown",
      "metadata": {
        "id": "view-in-github",
        "colab_type": "text"
      },
      "source": [
        "<a href=\"https://colab.research.google.com/github/kwaldenphd/python-jupyter-notebooks/blob/main/python_jupyter_notebook_procedure.ipynb\" target=\"_parent\"><img src=\"https://colab.research.google.com/assets/colab-badge.svg\" alt=\"Open In Colab\"/></a>"
      ]
    },
    {
      "cell_type": "markdown",
      "source": [
        "# Python and Jupyter Notebooks\n",
        "\n",
        "<a href=\"http://creativecommons.org/licenses/by-nc/4.0/\" rel=\"license\"><img style=\"border-width: 0;\" src=\"https://i.creativecommons.org/l/by-nc/4.0/88x31.png\" alt=\"Creative Commons License\" /></a>\n",
        "This tutorial is licensed under a <a href=\"http://creativecommons.org/licenses/by-nc/4.0/\" rel=\"license\">Creative Commons Attribution-NonCommercial 4.0 International License</a>."
      ],
      "metadata": {
        "id": "q_i7Gznx62CE"
      },
      "id": "q_i7Gznx62CE"
    },
    {
      "cell_type": "markdown",
      "source": [
        "## Lab Goals\n",
        "\n",
        "By the end of this lab, students will be able to:\n",
        "- Install Anaconda in their local environment\n",
        "- Understand the core components of the Jupyter Notebooks environment\n",
        "- Compare and contrast Python IDEs\n",
        "\n",
        "<table>\n",
        " <tr><td>\n",
        "<img src=\"https://elearn.southampton.ac.uk/wp-content/blogs.dir/sites/64/2021/04/PanPan.png\" alt=\"Panopto logo\" width=\"50\"/></td>\n",
        "  <td><a href=\"https://notredame.hosted.panopto.com/Panopto/Pages/Viewer.aspx?id=a711a5e3-ea68-47fc-ba09-add90122ee77\">Lab overview</a></td>\n",
        "  </tr>\n",
        "  </table>\n",
        "  \n",
        "<table>\n",
        " <tr><td>\n",
        "<img src=\"https://elearn.southampton.ac.uk/wp-content/blogs.dir/sites/64/2021/04/PanPan.png\" alt=\"Panopto logo\" width=\"50\"/></td>\n",
        "<td><a href=\"https://notredame.hosted.panopto.com/Panopto/Pages/Viewer.aspx?pid=d3870ca4-0fc2-49e5-be48-add901896f9f\">Lecture/live coding playlist</a></td>\n",
        "  </tr>\n",
        "  </table>"
      ],
      "metadata": {
        "id": "Qgpjo6H562wz"
      },
      "id": "Qgpjo6H562wz"
    },
    {
      "cell_type": "markdown",
      "source": [
        "## Acknowledgements\n",
        "\n",
        "The documentation for Google Colab was developed by Spring 2021 graduate teaching assistant [Subhadyuti Sahoo](https://github.com/SDSAHOO703).\n",
        "\n",
        "Peer review and editing was provided by Spring 2021 graduate teaching assistants [Subhadyuti Sahoo](https://github.com/SDSAHOO703) and [Aidan Draper](https://github.com/adraper2).\n",
        "\n",
        "The author consulted the following texts when writing this tutorial:\n",
        "- Allen Downey, [*Think Python: How to Think Like a Computer Scientist*](https://www.oreilly.com/library/view/think-python-2nd/9781491939406/) (O'Reilly, 2015).\n",
        "  * Chapter 2 \"Variables, Expressions and Statements\" (11-20)\n",
        "- Quinn Dombrowski, Tassie Gniady, and David Kloster, \"Introduction to Jupyter Notebooks,\" *The Programming Historian* 8 (2019), https://doi.org/10.46430/phen0087"
      ],
      "metadata": {
        "id": "4JeSTtmo63wW"
      },
      "id": "4JeSTtmo63wW"
    },
    {
      "cell_type": "markdown",
      "source": [
        "# Lecture and Live Coding\n",
        "\n",
        "Throughout this lab, you will see a Panopto icon at the start of select sections.\n",
        "\n",
        "This icon indicates there is lecture/live coding asynchronous content that accompanies this section of the lab. \n",
        "\n",
        "You can click the link in the figure caption to access these materials (ND users only).\n",
        "\n",
        "Example:\n",
        "\n",
        "<table>\n",
        " <tr><td>\n",
        "<img src=\"https://elearn.southampton.ac.uk/wp-content/blogs.dir/sites/64/2021/04/PanPan.png\" alt=\"Panopto logo\" width=\"50\"/></td>\n",
        "  <td><a href=\"https://notredame.hosted.panopto.com/Panopto/Pages/Viewer.aspx?id=a711a5e3-ea68-47fc-ba09-add90122ee77\">Lab overview</a></td>\n",
        "  </tr>\n",
        "  </table>\n",
        "  \n",
        "<table>\n",
        " <tr><td>\n",
        "<img src=\"https://elearn.southampton.ac.uk/wp-content/blogs.dir/sites/64/2021/04/PanPan.png\" alt=\"Panopto logo\" width=\"50\"/></td>\n",
        "<td><a href=\"https://notredame.hosted.panopto.com/Panopto/Pages/Viewer.aspx?pid=d3870ca4-0fc2-49e5-be48-add901896f9f\">Lecture/live coding playlist</a></td>\n",
        "  </tr>\n",
        "  </table>"
      ],
      "metadata": {
        "id": "n88CgE2m65E8"
      },
      "id": "n88CgE2m65E8"
    },
    {
      "cell_type": "markdown",
      "source": [
        "# Lab Notebook Template\n",
        "\n",
        "Lab notebook template:\n",
        "- [Jupyter Notebook](https://drive.google.com/file/d/1vyK7r5MV6WSDPLSm_XiTRouyYW8uaNl_/view?usp=sharing)\n"
      ],
      "metadata": {
        "id": "fLWJ4l4F6511"
      },
      "id": "fLWJ4l4F6511"
    },
    {
      "cell_type": "markdown",
      "source": [
        "# Different types of Python environments\n",
        "\n",
        "<table>\n",
        " <tr><td>\n",
        "<img src=\"https://elearn.southampton.ac.uk/wp-content/blogs.dir/sites/64/2021/04/PanPan.png\" alt=\"Panopto logo\" width=\"50\"/></td>\n",
        "  <td><a href=\"https://notredame.hosted.panopto.com/Panopto/Pages/Viewer.aspx?id=a711a5e3-ea68-47fc-ba09-add90122ee77\">Getting Started</a></td>\n",
        "  </tr>\n",
        "  </table>\n",
        "\n",
        "1. Up to this point, we have used the browser-based IDE [Replit](https://repl.it/).\n",
        "\n",
        "2. What is an IDE? \"An integrated development environment (IDE) is a software application that provides comprehensive facilities to computer programmers for software development. An IDE normally consists of at least a source code editor, build automation tools and a debugger\" ([Wikipedia](https://en.wikipedia.org/wiki/Integrated_development_environment)).\n",
        "\n",
        "3. An IDE can include features like syntax highlighting, code completion, version control, and debugging.\n",
        "\n",
        "5. There are a WIDE range of IDEs that are proprietary or open-source, tailored to a specific language or able to work across languages.\n",
        "\n",
        "5. Some common IDEs include Eclipse, Geany, Brackets, Atom, PyCharm, Spyder, RStudio, etc. For more in IDEs, visit Wikipedia's [\"Comparison of integrated development environments\"](https://en.wikipedia.org/wiki/Comparison_of_integrated_development_environments) page.\n",
        "\n",
        "6. Replit (generally) worked for (most of) our needs. But it ran into problems with more complex programs or programs involving external files/datasets/etc. \n",
        "\n",
        "7. Now, we're going to install Python on your local computer, using a distribution called Anaconda.\n",
        "\n",
        "8. What is Anaconda? \"Anaconda is a open-source distribution of the Python and R programming languages for scientific computing (data science, machine learning applications, large-scale data processing, predictive analytics, etc.), that aims to simplify package management and deployment. The distribution includes data-science packages suitable for Windows, Linux, and macOS. It is developed and maintained by Anaconda, Inc., which was founded by Peter Wang and Travis Oliphant in 2012\" ([Wikipedia](https://en.wikipedia.org/wiki/Anaconda_(Python_distribution))).\n",
        "\n",
        "9. The Anaconda environment includes a number of specific tools and programs, including:\n",
        "- JupyterLab\n",
        "- Jupyter Notebook\n",
        "- Qt Console\n",
        "- Spyder\n",
        "- Glue\n",
        "- Orange\n",
        "- RStudio\n",
        "- Visual Code Studio\n",
        "\n",
        "10. This lab introduces us to using Jupyter Notebooks through Anaconda. It also includes resources for [getting started in Google Colab](https://github.com/kwaldenphd/python-jupyter-notebooks/blob/main/google-colab-instructions.md), a browser-based Jupyter Notebooks environment.\n"
      ],
      "metadata": {
        "id": "PRzcvoVK67Q-"
      },
      "id": "PRzcvoVK67Q-"
    },
    {
      "cell_type": "markdown",
      "source": [
        "# Installing Anaconda\n",
        "\n",
        "<p align=\"center\"><a href=\"https://github.com/kwaldenphd/python-jupyter-notebooks/blob/main/images/Figure_1.png?raw=true\"><img class=\"aligncenter\" src=\"https://github.com/kwaldenphd/python-jupyter-notebooks/blob/main/images/Figure_1.png?raw=true\" /></a></p>\n",
        "\n",
        "11. Windows/PC instructions:\n",
        "- Anaconda Documentation, [\"Installing on Windows\"](https://docs.anaconda.com/anaconda/install/windows/) *Anaconda* (2020).\n",
        "- ProgrammingKnowledge, [\"Install Anaconda Python, Jupyter Notebook and Spyder on Windows 10\"](https://youtu.be/5mDYijMfSzs) *YouTube video* (4 September 2018).\n",
        "\n",
        "12. Mac OS instructions:\n",
        "- Anaconda Documentation, [\"Installing on macOS\"](https://docs.anaconda.com/anaconda/install/mac-os/) *Anaconda* (2020).\n",
        "- Understanding Data, [\"Easily Install Anaconda Python Distribution On Mac OS X\"](https://youtu.be/V6ZAv7hBH6Y) *YouTube video* (16 October 2019).\n",
        "\n",
        "13. Chromebook instructions:\n",
        "- Alex P. Miller, [\"Data Science on a Chromebook: How to run Jupyter, Python, and R locally in ChromeOS\"](https://alex.miller.im/posts/data-science-chromebook-pixelbook-jupyter-python-r/) *personal blog* (6 March 2019).\n",
        "- Noebrian, [\"Installing Anaconda on a Chromebook\"](https://chromebook.home.blog/2019/01/20/installing-anaconda-on-a-chromebook-no-dev-beta-or-crouton-needed/) *ChromeBooks* (20 January 2019)."
      ],
      "metadata": {
        "id": "uUU7Bb7T68JH"
      },
      "id": "uUU7Bb7T68JH"
    },
    {
      "cell_type": "markdown",
      "source": [
        "# Python in Jupyter notebooks\n",
        "\n",
        "14. What is Jupyter?\n",
        "\n",
        "15. \"Project Jupyter is a non-profit, open-source project, born out of the IPython Project in 2014 as it evolved to support interactive data science and scientific computing across all programming languages. Jupyter will always be 100% open-source software, free for all to use and released under the liberal terms of the modified BSD license\" ([\"About Us\"](https://jupyter.org/about), *Jupyter.org*)\n",
        "\n",
        "16. Project Jupyter receives funding from a range of non-profit foundations and corporate partners that include:\n",
        "- Alfred P. Sloan Foundation\n",
        "- Gordon and Betty Moore Foundation\n",
        "- Google\n",
        "- Microsoft\n",
        "\n",
        "17. Institutional partners for Project Jupyter include:\n",
        "- Apple\n",
        "- Bloomberg\n",
        "- Netflix\n",
        "- Cal Poly\n",
        "- Berkeley\n",
        "- Amazon Web Services (AWS)\n",
        "\n",
        "18. The name Jupyter is a reference to the three core languages supported by the project: **Ju**lia, **Py**thon, and **R**.\n",
        "\n",
        "19. And what is a Jupyter notebook?\n",
        "\n",
        "20. According to \"[The Jupyter Notebook](https://jupyter-notebook.readthedocs.io/en/stable/notebook.html)\" documentation:\n",
        "\n",
        "<blockquote>The notebook extends the console-based approach to interactive computing in a qualitatively new direction, providing a web-based application suitable for capturing the whole computation process: developing, documenting, and executing code, as well as communicating the results. The Jupyter notebook combines two components:\n",
        " <ul>\n",
        "  <li>A web application: a browser-based tool for interactive authoring of documents which combine explanatory text, mathematics, computations and their rich media output.</li>\n",
        "  <li>Notebook documents: a representation of all content visible in the web application, including inputs and outputs of the computations, explanatory text, mathematics, images, and rich media representations of objects</li>\n",
        " </ul>\n",
        " </blockquote>\n",
        "\n",
        "21. A Jupyter notebook is a file (the notebook document) that displays or renders in a web browser.\n",
        "\n",
        "22. We'll be launching Jupyter Notebooks through Anaconda. \n",
        "\n",
        "23. The web application component of the notebook will be hosted on your local computer and the notebook document will save to a file directory on your local computer.\n",
        "\n",
        "<p align=\"center\"><a href=\"https://github.com/kwaldenphd/python-jupyter-notebooks/blob/main/images/Figure_1.png?raw=true\"><img class=\"aligncenter\" src=\"https://github.com/kwaldenphd/python-jupyter-notebooks/blob/main/images/Figure_1.png?raw=true\" /></a></p>\n",
        "\n",
        "<p align=\"center\"><a href=\"https://github.com/kwaldenphd/python-jupyter-notebooks/blob/main/images/Figure_5.png?raw=true\"><img class=\"aligncenter\" src=\"https://github.com/kwaldenphd/python-jupyter-notebooks/blob/main/images/Figure_5.png?raw=true\" /></a></p>\n",
        "\n",
        "<table>\n",
        " <tr><td>\n",
        "<img src=\"https://elearn.southampton.ac.uk/wp-content/blogs.dir/sites/64/2021/04/PanPan.png\" alt=\"Panopto logo\" width=\"50\"/></td>\n",
        "  <td><a href=\"https://notredame.hosted.panopto.com/Panopto/Pages/Viewer.aspx?id=8edcdeb3-2028-4434-90a5-add901271f5c\">Navigating and Authoring in Jupyter Notebooks</a></td>\n",
        "  </tr>\n",
        "  </table>\n",
        "\n",
        "24. It may take some time for the notebook to open in a browser window.\n",
        "\n",
        "<p align=\"center\"><a href=\"https://github.com/kwaldenphd/python-jupyter-notebooks/blob/main/images/Figure_6.png?raw=true\"><img class=\"aligncenter\" src=\"https://github.com/kwaldenphd/python-jupyter-notebooks/blob/main/images/Figure_6.png?raw=true\" /></a></p>\n",
        "\n",
        "25. When in a new notebook document, you have four main components to the user interface:\n",
        "- Notebook name\n",
        "- Menu bar\n",
        "- Toolbar\n",
        "- Code cell\n",
        "\n",
        "26. The notebook name is what the `.ipynb` file created via the Jupyter notebook will be saved as.\n",
        "\n",
        "27. Click on the default notebook name (usually `Untitled`) to rename the notebook.\n",
        "\n",
        "28. The menu bar includes drop-down options used to manipulate the notebook functionality.\n",
        "\n",
        "29. The toolbar icons give you quick access to the most commonly-used features of the notebook environment.\n",
        "\n",
        "30. Code cells are the default type of cell.\n",
        "\n",
        "31. But why are there cells?\n",
        "\n",
        "32. Jupyter notebooks consist of a sequence of cells.\n",
        "\n",
        "33. A cell is a multiline text input field. \n",
        "\n",
        "34. You can execute the contents of a cell by using `Shift-Enter`, clicking the `Play` button in the toolbar, or the `Cell` and `Run` icons in the menu bar.\n",
        "\n",
        "35. How a cell executes is determined by its type.\n",
        "\n",
        "36. There are three types of Jupyter notebook cells.\n",
        "\n",
        "37. ***Code cells*** allow you to edit and write code with full syntax highlighting and tab completion.\n",
        "\n",
        "38. ***Markdown cells*** allow you to document the computational process using descriptive text formatted using the markdown language.\n",
        "\n",
        "39. ***Raw cells*** allow you to write output directly. These cells are not evaluated by the notebook and render unmodified.\n",
        "\n",
        "40. You can edit or work within a code cell until you get the desired output, then move on to a new cell.\n",
        "\n",
        "41. You can use markdown cells along the way to document your process using narrative text (alongside or in addition to code comments used in code cells).\n",
        "\n",
        "42. To learn more about formatting text in markdown, visit Adam Pritchard's [\"Markdown Cheatsheet\"](https://github.com/adam-p/markdown-here/wiki/Markdown-Cheatsheet) resource page.\n",
        "\n",
        "43. You can download a Jupyter notebook as a `.ipynb` file (this is the default option).\n",
        "\n",
        "44. You can also use the `File` - `Download as` menu options to download the notebook in a number of other formats, including `.py`, `.pdf`, or `.html`.\n",
        "\n",
        "<blockquote>To learn more about configuring Jupyter Notebooks to download notebooks as PDFs:\n",
        " <ul>\n",
        "  <li><a href=\"https://pypi.org/project/notebook-as-pdf/\">Jupyter extension documentation</a></li>\n",
        "  <li>Cornellius Yudha Wijaya, \"<a href=\"https://towardsdatascience.com/jupyter-notebook-to-pdf-in-a-few-lines-3c48d68a7a63\">Jupyter Notebook to PDF in a few lines</a>\", <em>Towards Data Science</em> (12 July 2020)</li>\n",
        " </ul>\n",
        " </blockquote>\n",
        "\n",
        "45. There's a lot to love about Jupyter notebooks. \n",
        "\n",
        "46. A few challenges or drawbacks:\n",
        "- Version control especially in collaborative environments is virtually impossible\n",
        "- Jupyter lacks the debugging tools and autocompletion features of an IDE\n",
        "- Testing and debugging code is virtually impossible\n",
        "- Installing third-party packages or modules can be tricky \n",
        "- Jupyter's non-linear workflow limits transparent reproducible code\n",
        "- Jupyter doesn't play well with external big data applications (spark/dask/distributed)\n",
        "\n",
        "<blockquote>Citation: Alexander Mueller, <a href= \"https://towardsdatascience.com/5-reasons-why-jupyter-notebooks-suck-4dc201e27086\">\"5 reasons why jupyter notebooks suck\"</a>, <i>Towards Data Science</i> (24 March 2018)</blockquote>\n",
        "\n",
        "47. So when could you use Jupyter notebooks? \n",
        "\n",
        "48. Jupyter notebooks are fantastic tools for exploration. \n",
        "\n",
        "49. They also work well for documenting process, or in situations when you might need to alternate between code and other kinds of text (like say in a lab notebook)."
      ],
      "metadata": {
        "id": "6T0Lb0iv6-90"
      },
      "id": "6T0Lb0iv6-90"
    },
    {
      "cell_type": "markdown",
      "source": [
        "### Installing packages in Jupyter notebooks\n",
        "\n",
        "<table>\n",
        " <tr><td>\n",
        "<img src=\"https://elearn.southampton.ac.uk/wp-content/blogs.dir/sites/64/2021/04/PanPan.png\" alt=\"Panopto logo\" width=\"50\"/></td>\n",
        "  <td><a href=\"https://notredame.hosted.panopto.com/Panopto/Pages/Viewer.aspx?id=2879425e-1a6c-4f65-9b95-add90129efe4\">Installing Packages in Jupyter Notebooks</a></td>\n",
        "  </tr>\n",
        "  </table>\n",
        "\n",
        "50. In a previous lab, we mentioned how you can use modules, libraries, and packages to extend Python's functionality.\n",
        "\n",
        "51. That previous lab used the built-in `csv` and `json` modules. \n",
        "\n",
        "52. We did not need to install those modules since they are already included in Python.\n",
        "\n",
        "53. All we had to do was use an `import` statement to bring those modules into our Python program."
      ],
      "metadata": {
        "id": "7encHuXy7AI8"
      },
      "id": "7encHuXy7AI8"
    },
    {
      "cell_type": "code",
      "source": [
        "# sample import statement\n",
        "import MODULE NAME"
      ],
      "metadata": {
        "id": "AwkxKTzm7A-6"
      },
      "id": "AwkxKTzm7A-6",
      "execution_count": null,
      "outputs": []
    },
    {
      "cell_type": "markdown",
      "source": [
        "54. But, there are many situations in which we would need to install a Python module, package, or library before being able to use `import`.\n",
        "\n",
        "55. Let's take a look at the installation instructions for a few common Python libraries.\n",
        "- `NumPy` (scientific computing), [\"Installing NumPy\"](https://numpy.org/install/)\n",
        "- `SciKit-Learn` (machine learning), [\"Installing scikit-learn\"](https://scikit-learn.org/stable/install.html)\n",
        "- `pandas` (data wrangling/analysis) [\"Installation\"](https://pandas.pydata.org/docs/getting_started/install.html)\n",
        "- `matplotlib` (data visualization) [\"Installation\"](https://matplotlib.org/stable/users/installing.html)\n",
        "\n",
        "56. The documentation for each library includes sample code for installing the library in different Python environments and operating systems.\n",
        "\n",
        "57. Many libraries/packages will include sample code for installing the package using `pip`, an installation method available through the Python Package Index.\n",
        "\n",
        "58. Most libraries/packages will also include sample code for installing the package through Anaconda, sometimes referred to as `conda` in documentation.\n",
        "\n",
        "58. BUT...these install commands are not something we should run within our Python program, whether we're working in a `.py` script or a `.ipynb` notebook.\n",
        "\n",
        "59. You might see internet documentation that suggests you apply the install terminal syntax directly in a code cell."
      ],
      "metadata": {
        "id": "0qyql4u67CIZ"
      },
      "id": "0qyql4u67CIZ"
    },
    {
      "cell_type": "code",
      "source": [
        "!conda install --yes numpy\n",
        "\n",
        "!pip install numpy"
      ],
      "metadata": {
        "id": "-TbFiE907C_Z"
      },
      "id": "-TbFiE907C_Z",
      "execution_count": null,
      "outputs": []
    },
    {
      "cell_type": "markdown",
      "source": [
        "60. Resist this temptation!\n",
        "\n",
        "61. We want to make sure the library is installed correctly in our Python environment, so we need to run the install command in a terminal/shell.\n",
        "\n",
        "<p align=\"center\"><a href=\"https://github.com/kwaldenphd/python-jupyter-notebooks/blob/main/images/Figure_1.png?raw=true\"><img class=\"aligncenter\" src=\"https://github.com/kwaldenphd/python-jupyter-notebooks/blob/main/images/Figure_1.png?raw=true\" /></a></p>\n",
        "\n",
        "<p align=\"center\"><a href=\"https://github.com/kwaldenphd/python-jupyter-notebooks/blob/main/images/fig4.jpg?raw=true\"><img class=\"aligncenter\" src=\"https://github.com/kwaldenphd/python-jupyter-notebooks/blob/main/images/fig4.jpg?raw=true\" /></a></p>\n",
        "\n",
        "62. You can access a terminal/shell by launching the Anaconda Navigator and clicking the `Launch` button in the `CMD.exe Prompt` tile.\n",
        "\n",
        "<p align=\"center\"><a href=\"https://github.com/kwaldenphd/python-jupyter-notebooks/blob/main/images/fig5.jpg?raw=true\"><img class=\"aligncenter\" src=\"https://github.com/kwaldenphd/python-jupyter-notebooks/blob/main/images/fig5.jpg?raw=true\" /></a></p>\n",
        "\n",
        "63. Then, within the terminal, we can run the install command.\n",
        "- `pip` will work, but when possible `conda` is best\n",
        "\n",
        "64. We can also open a terminal from within Jupyter Notebooks.\n",
        "\n",
        "<p align=\"center\"><a href=\"https://github.com/kwaldenphd/python-jupyter-notebooks/blob/main/images/fig1.jpg?raw=true\"><img class=\"aligncenter\" src=\"https://github.com/kwaldenphd/python-jupyter-notebooks/blob/main/images/fig1.jpg?raw=true\" /></a></p>\n",
        "\n",
        "<p align=\"center\"><a href=\"https://github.com/kwaldenphd/python-jupyter-notebooks/blob/main/images/fig2.jpg?raw=true\"><img class=\"aligncenter\" src=\"https://github.com/kwaldenphd/python-jupyter-notebooks/blob/main/images/fig2.jpg?raw=true\" /></a></p>\n",
        "\n",
        "65. In the Jupyter Notebook main window (first browser tab that opens when you launch the program), click the `New` drop-down in the top right-hand corner.\n",
        "\n",
        "66. Select `Terminal` under `Other` to open a terminal.\n",
        "\n",
        "<p align=\"center\"><a href=\"https://github.com/kwaldenphd/python-jupyter-notebooks/blob/main/images/fig3.jpg?raw=true\"><img class=\"aligncenter\" src=\"https://github.com/kwaldenphd/python-jupyter-notebooks/blob/main/images/fig3.jpg?raw=true\" /></a></p>\n",
        "\n",
        "67. Then, within the terminal, we can run the install command.\n",
        "- Again, `pip` will work, but when possible `conda` is best.\n",
        "\n",
        "68. If you absolutely must install a package from within a notebook, we can use the `sys` module to install the package from within the notebook.\n"
      ],
      "metadata": {
        "id": "86AXJm5E7Ef1"
      },
      "id": "86AXJm5E7Ef1"
    },
    {
      "cell_type": "code",
      "source": [
        "# sample code for installing numpy using conda\n",
        "\n",
        "# import sys module\n",
        "import sys\n",
        "\n",
        "# line of code to install numpy using conda\n",
        "!conda install --yes --prefix {sys.prefix} numpy"
      ],
      "metadata": {
        "id": "gb-cQ48x7F7j"
      },
      "id": "gb-cQ48x7F7j",
      "execution_count": null,
      "outputs": []
    },
    {
      "cell_type": "code",
      "source": [
        "# sample code for installing numpy using pip\n",
        "\n",
        "# import sys module\n",
        "import sys\n",
        "\n",
        "# line of code to install numpy using pip\n",
        "!{sys.executable} -m pip install numpy"
      ],
      "metadata": {
        "id": "u5SiV14Y7Gvc"
      },
      "id": "u5SiV14Y7Gvc",
      "execution_count": null,
      "outputs": []
    },
    {
      "cell_type": "markdown",
      "source": [
        "For more on installing Python packages in the Jupyter notebook environment:\n",
        "- Jake VanderPlas, [\"Installing Python Packages from a Jupyter Notebook\"](https://jakevdp.github.io/blog/2017/12/05/installing-python-packages-from-jupyter/) *Pythonic Perambulations personal blog* (5 December 2017)\n",
        "\n",
        "69. If you have already installed a package at the command line using `pip` or `conda`, launching Jupyter from the Anaconda navigator should not require installing the package again.\n",
        "\n",
        "<blockquote>Q1: Use the Anaconda or Jupyter terminal to install the four libraries mentioned in step 55 (numpy, scikit-learn, pandas, matplotlib). Describe your experience installing these libraries using the available/provided documentation. What did you expect to happen? What challenges did you face? How did you solve them?</blockquote>\n",
        "\n",
        "70. You can load the module/library/package in your Python program using `import`.\n",
        "\n",
        "<p align=\"center\"><a href=\"https://github.com/kwaldenphd/python-jupyter-notebooks/blob/main/images/module_error.png?raw=true\"><img class=\"aligncenter\" src=\"https://github.com/kwaldenphd/python-jupyter-notebooks/blob/main/images/module_error.png?raw=true\" /></a></p>\n",
        "\n",
        "71. The `import` statements won't have an output, but the absence of a `ModuleNotFoundError` message is a good sign.\n",
        "\n",
        "<blockquote>Q2: Write import statements for each of the libraries you installed in Q1. What did you expect to happen? What challenges did you face (if any)?</blockquote>"
      ],
      "metadata": {
        "id": "pHnBBqLW7IVM"
      },
      "id": "pHnBBqLW7IVM"
    },
    {
      "cell_type": "code",
      "source": [
        "# import pandas \n",
        "import pandas\n",
        "\n",
        "# import pandas using pd alias\n",
        "import pandas as pd"
      ],
      "metadata": {
        "id": "ft9MegIk7J8i"
      },
      "id": "ft9MegIk7J8i",
      "execution_count": null,
      "outputs": []
    },
    {
      "cell_type": "code",
      "source": [
        "# import numpy\n",
        "import numpy\n",
        "\n",
        "# import numpy using np alias\n",
        "import numpy as np"
      ],
      "metadata": {
        "id": "WtcCgcgI7LvH"
      },
      "id": "WtcCgcgI7LvH",
      "execution_count": null,
      "outputs": []
    },
    {
      "cell_type": "code",
      "source": [
        "# import scikit-learn\n",
        "import sklearn\n",
        "\n",
        "# import datasets module from scikit-learn\n",
        "from sklearn import datasets\n",
        "\n",
        "# import linear models from scikit-learn\n",
        "from sklearn import linear_model"
      ],
      "metadata": {
        "id": "3HIB1JUB7NLK"
      },
      "id": "3HIB1JUB7NLK",
      "execution_count": null,
      "outputs": []
    },
    {
      "cell_type": "code",
      "source": [
        "# import matplotlib\n",
        "import matplotlib.pyplot\n",
        "\n",
        "# import matplotlib using plt alias\n",
        "import matplotlib.pyplot as plt"
      ],
      "metadata": {
        "id": "MXr9fyia7N_k"
      },
      "id": "MXr9fyia7N_k",
      "execution_count": null,
      "outputs": []
    },
    {
      "cell_type": "markdown",
      "source": [
        "## Authoring in Jupyter Notebooks\n",
        "\n",
        "72. Remember there are three types of Jupyter notebook cells.\n",
        "- ***Code cells*** allow you to edit and write code with full syntax highlighting and tab completion.\n",
        "- ***Markdown cells*** allow you to document the computational process using descriptive text formatted using the markdown language.\n",
        "- ***Raw cells*** allow you to write output directly. These cells are not evaluated by the notebook and render unmodified.\n",
        "\n",
        "73. There are a few ways you can change a cell's type.\n",
        "\n",
        "<p align=\"center\"><a href=\"https://github.com/kwaldenphd/python-jupyter-notebooks/blob/main/images/fig6.jpg?raw=true\"><img class=\"aligncenter\" src=\"https://github.com/kwaldenphd/python-jupyter-notebooks/blob/main/images/fig6.jpg?raw=true\" /></a></p>\n",
        "\n",
        "74. One option is to select the cell type from the drop-down options.\n",
        "\n",
        "<p align=\"center\"><a href=\"https://github.com/kwaldenphd/python-jupyter-notebooks/blob/main/images/fig7.jpg?raw=true\"><img class=\"aligncenter\" src=\"https://github.com/kwaldenphd/python-jupyter-notebooks/blob/main/images/fig7.jpg?raw=true\" /></a></p>\n",
        "\n",
        "75. Another option is to select `Cell Type` from the `Cell` menu tab.\n",
        "\n",
        "76. You'll also notice there are keyboard shortcuts for changing cell type.\n",
        "- `y` (code)\n",
        "- `m` (markdown)\n",
        "- `r` (raw)\n",
        "\n",
        "77. A couple of notes on keyboard shortcuts...\n",
        "- When a cell is highlighted in green (click inside the cell's text box), this indicates you are editing in the cell.\n",
        "- When a cell is highlighted in blue (click to the left of the cell's text box), this indicates you are modifying the entire cell.\n",
        "\n",
        "A few other useful keyboard shortcuts:\n",
        "- `x` (delete a cell)\n",
        "- `a` (insert cell above, default is code cell)\n",
        "- `b` (insert cell below, default is code cell)\n",
        "\n",
        "78. To put that another way:\n",
        "- Green: Typing code, adding text to a markdown cell, etc.\n",
        "- Blue: Changing the type of cell using keyboard shortcuts\n",
        "\n",
        "<table>\n",
        " <tr><td>\n",
        "<img src=\"https://elearn.southampton.ac.uk/wp-content/blogs.dir/sites/64/2021/04/PanPan.png\" alt=\"Panopto logo\" width=\"50\"/></td>\n",
        "  <td><a href=\"https://notredame.hosted.panopto.com/Panopto/Pages/Viewer.aspx?id=3d1aa215-c8b8-4da6-9309-add9012d6646\">Lab Notebook Questions 3-4</a></td>\n",
        "  </tr>\n",
        "  </table>\n",
        "\n",
        "\n",
        "<blockquote>Q3: In a markdown cell, add text that includes the following style or formatting components:\n",
        " <ul>\n",
        "  <li>Heading (h1, h2, h3, etc)</li>\n",
        "  <li>Italics or bold text formatting</li>\n",
        "  <li>Unordered (or bulleted point) list</li>\n",
        "  <li>Link</li>\n",
        " </ul>\n",
        " NOTE: You will want to reference Adam Pritchard's <a href=\"https://github.com/adam-p/markdown-here/wiki/Markdown-Cheatsheet\">Markdown Cheatsheet</a> resource when working on this question.\n",
        " </blockquote>\n",
        "\n",
        "<blockquote>Q4: In a code cell, write a simple Python program (or programs) that includes the following functions:\n",
        " <ul>\n",
        "  <li><code>input()</code></li>\n",
        "  <li><code>print()</code></li>\n",
        " </ul>\n",
        " You are welcome to use a program (or programs) you've written for previous labs- original code is not required for this question. The main point for this question is to see how a Jupyter Notebook code cell executes a program.</blockquote>\n",
        " "
      ],
      "metadata": {
        "id": "mKz-ue7Z7QTg"
      },
      "id": "mKz-ue7Z7QTg"
    },
    {
      "cell_type": "markdown",
      "source": [
        "## Jupyter Notebook Export Options\n",
        "\n",
        "<table>\n",
        " <tr><td>\n",
        "<img src=\"https://elearn.southampton.ac.uk/wp-content/blogs.dir/sites/64/2021/04/PanPan.png\" alt=\"Panopto logo\" width=\"50\"/></td>\n",
        "  <td><a href=\"https://notredame.hosted.panopto.com/Panopto/Pages/Viewer.aspx?id=d5c07d63-bed7-4567-8e03-add9012ed625\">Export Options</a></td>\n",
        "  </tr>\n",
        "  </table>\n",
        "\n",
        "79. You can download a Jupyter notebook as a `.ipynb` file (this is the default option).\n",
        "\n",
        "80. You can also use the `File` - `Download as` menu options to download the notebook in a number of other formats, including `.py`, `.pdf`, or `.html`.\n",
        "\n",
        "81. NOTE: The PDF export options require additional configuration.\n",
        "\n",
        "82. Specifically, we're going to install the `notebook-as-pdf` and `pyppeteer` libraries. These allow HTML and PDF export and are much easier than trying to set up and configure LaTeX.\n",
        "\n",
        "83. Open a terminal (through Anaconda or Jupyter) and type the following commands (hitting `Enter` or `Return` after each line).\n",
        "\n",
        "```\n",
        "python -m pip install -U notebook-as-pdf\n",
        "pyppeteer-install\n",
        "```\n",
        "\n",
        "84. Once both installation processes have completed, you can close the terminal.\n",
        "\n",
        "85. You will need to restart the Python Kernel for the new export options to be available.\n",
        "\n",
        "<p align=\"center\"><a href=\"https://github.com/kwaldenphd/python-jupyter-notebooks/blob/main/images/fig8.jpg?raw=true\"><img class=\"aligncenter\" src=\"https://github.com/kwaldenphd/python-jupyter-notebooks/blob/main/images/fig8.jpg?raw=true\" /></a></p>\n",
        "\n",
        "86. Click one of the `Restart` options under the `Kernel` menu tab.\n",
        "\n",
        "87. If needed, re-run any code cells.\n",
        "\n",
        "<blockquote>To learn more about configuring Jupyter Notebooks to download notebooks as PDFs:\n",
        " <ul>\n",
        "  <li><a href=\"https://pypi.org/project/notebook-as-pdf/\">Jupyter extension documentation</a></li>\n",
        "  <li>Cornellius Yudha Wijaya, \"<a href=\"https://towardsdatascience.com/jupyter-notebook-to-pdf-in-a-few-lines-3c48d68a7a63\">Jupyter Notebook to PDF in a few lines</a>\", <em>Towards Data Science</em> (12 July 2020)</li>\n",
        " </ul>\n",
        " </blockquote>\n",
        "\n"
      ],
      "metadata": {
        "id": "4QzUHPvz7Rgh"
      },
      "id": "4QzUHPvz7Rgh"
    },
    {
      "cell_type": "markdown",
      "source": [
        "# Getting Started With Google CoLab\n",
        "\n",
        "<table>\n",
        " <tr><td>\n",
        "<img src=\"https://elearn.southampton.ac.uk/wp-content/blogs.dir/sites/64/2021/04/PanPan.png\" alt=\"Panopto logo\" width=\"50\"/></td>\n",
        "  <td><a href=\"https://notredame.hosted.panopto.com/Panopto/Pages/Viewer.aspx?id=baea6963-c832-4d27-a1cf-add90131468f\">Google CoLab</a></td>\n",
        "  </tr>\n",
        "  </table>\n",
        "\n",
        "Anaconda is a hefty software program that may not run (or run well) on your personal computer.\n",
        "\n",
        "\"'Colaboratory,' or 'CoLab' for short, is a product from Google Research. Colab allows anybody to write and execute arbitrary python code through the browser, and is especially well suited to machine learning, data analysis and education. More technically, Colab is a hosted Jupyter notebook service that requires no setup to use, while providing free access to computing resources including GPUs.\" ([Google Colaboratory, \"Frequently Asked Questions\"](https://research.google.com/colaboratory/faq.html))\n",
        "\n",
        "If Jupyter Notebooks through Anaconda is not a good fit, Google CoLab is a robust alternative.\n",
        "\n",
        "[\"Google CoLab Instructions\"](https://github.com/kwaldenphd/python-jupyter-notebooks/blob/main/google-colab-instructions.md), developed by Spring and Fall 2021 graduate teaching assistant [Subhadyuti Sahoo](https://github.com/SDSAHOO703).\n",
        "\n",
        "See also:\n",
        "- [\"Welcome to Colaboratory\"](https://colab.research.google.com/notebooks/intro.ipynb) notebook from Google CoLab"
      ],
      "metadata": {
        "id": "uuWWO4MD7VKS"
      },
      "id": "uuWWO4MD7VKS"
    },
    {
      "cell_type": "markdown",
      "source": [
        "# Other Lab Notebook Questions\n",
        "\n",
        "Q5: Compare your experience working in different Python IDEs. What seems appealing about each? What seems challenging? Based on this experience, what is your preference, or are there situations in which you'd prefer one over the other?\n",
        "\n",
        "Q6: After working through the previous steps, export your notebook for this lab as a PDF. Submit both the Jupyter Notebook (.ipynb) and PDF file on Canvas."
      ],
      "metadata": {
        "id": "CR4vObld7WSY"
      },
      "id": "CR4vObld7WSY"
    },
    {
      "cell_type": "markdown",
      "source": [
        "# OPTIONAL: Python in Spyder\n",
        "\n",
        "<table>\n",
        " <tr><td>\n",
        "<img src=\"https://elearn.southampton.ac.uk/wp-content/blogs.dir/sites/64/2021/04/PanPan.png\" alt=\"Panopto logo\" width=\"50\"/></td>\n",
        "  <td><a href=\"https://notredame.hosted.panopto.com/Panopto/Pages/Viewer.aspx?id=fa9f1a93-a8f6-4de9-aa81-add901321225\">OPTIONAL: Python in Spyder</a></td>\n",
        "  </tr>\n",
        "  </table>\n",
        "\n",
        "\n",
        "88. If you've got extra time and want to explore another Python IDE included in Anaconda...\n",
        "\n",
        "89. What is Spyder? \"Spyder is a free and open source scientific environment written in Python, for Python, and designed by and for scientists, engineers and data analysts. It features a unique combination of the advanced editing, analysis, debugging, and profiling functionality of a comprehensive development tool with the data exploration, interactive execution, deep inspection, and beautiful visualization capabilities of a scientific package\" ([Spyder documentation](https://www.spyder-ide.org/)).\n",
        "\n",
        "90. Spyder's core components include:\n",
        "- Editor\n",
        "- IPython console\n",
        "- Variable explorer\n",
        "- Plots\n",
        "- Debugger\n",
        "- Help\n",
        "\n",
        "91. These robust Python features in Spyder are incredibly useful as you start to do more work with datasets, visualizations (plots), and debugging in more complex programming environments.\n",
        "\n",
        "<p align=\"center\"><a href=\"https://github.com/kwaldenphd/python-spyder/blob/main/images/Figure_1.png?raw=true\"><img class=\"aligncenter\" src=\"https://github.com/kwaldenphd/python-spyder/blob/main/images/Figure_1.png?raw=true\" /></a></p>\n",
        "\n",
        "<p align=\"center\"><a href=\"https://github.com/kwaldenphd/python-spyder/blob/main/images/Figure_2.png?raw=true\"><img class=\"aligncenter\" src=\"https://github.com/kwaldenphd/python-spyder/blob/main/images/Figure_2.png?raw=true\" /></a></p>\n",
        "\n",
        "92. Open the Anaconda navigator and select the option to launch Spyder.\n",
        "\n",
        "<p align=\"center\"><a href=\"https://github.com/kwaldenphd/python-spyder/blob/main/images/Figure_2a.png?raw=true\"><img class=\"aligncenter\" src=\"https://github.com/kwaldenphd/python-spyder/blob/main/images/Figure_2a.png?raw=true\" /></a></p>\n",
        "\n",
        "93. Spyder has three default panes that show up when you launch the program.\n",
        "\n",
        "94. Your `.py` file shows up on the left-hand side of the program window. This is where you will write Python code. You can have multiple `.py` files open in Spyder and navigate between the tabs. \n",
        "\n",
        "95. The top-right pane has four default options:\n",
        "- Variable explorer, which lets you see named variables in your program\n",
        "- Help, which provides additional documentation, information, or resources\n",
        "- Plots, which will show visualizations generated by your program\n",
        "- Files, which will show all files currently open or active in your Spyder workspace\n",
        "\n",
        "96. The bottom-right pane is the Console, which lets you execute and test Python commands. You can have multiple consoles open simultaneously.\n",
        "\n",
        "97. So how is the Console different from your `.py` file?\n",
        "\n",
        "98. In the `.py` file you are writing a Python program that will run or execute when the file is called. You make updates to that file, save changes, etc.\n",
        "\n",
        "99. The Console lets you execute Python commands but is not saving those commands as part of a `.py` file. \n",
        "\n",
        "100. Great for testing. Less great for building out complex programs.\n",
        "\n",
        "101. NOTE: When we were working in Replit, all files that were part of our Python project were in the same virtual workspace. \n",
        "\n",
        "102. That's not going to be the case when working in a desktop IDE like Spyder. \n",
        "\n",
        "103. Think of this as the difference between working with files in Google Drive versus on your local computer. \n",
        "\n",
        "104. You can set a working directory, which is where Spyder will look for external files you are wanting to access from within a Python program. The working directory is also where Python will save `.py` files you build.\n",
        "\n",
        "<p align=\"center\"><a href=\"https://github.com/kwaldenphd/python-spyder/blob/main/images/Figure_2c.png?raw=true\"><img class=\"aligncenter\" src=\"https://github.com/kwaldenphd/python-spyder/blob/main/images/Figure_2c.png?raw=true\" /></a></p>\n",
        "\n",
        "105. Click on the folder icon in the top-right hand corner of Spyder (next to the arrow icon) to set a working directory. It doe--where you save `.py` files and other files (think data files) you might be wanting to access as part of a Python program.\n",
        "\n",
        "106. Now, files don't have to be in your current working directory for you to access them in Python. But you'll need to provide the full file path (i.e. location information or directory information for where that file is located on your computer).\n",
        "\n",
        "107. Go ahead and create an `EoC_II` folder and set that folder as your working directory in Spyder. It might also be a good idea to start creating lab-specific sub-folders within your `EoC_II` parent folder. \n",
        "\n",
        "108. This will help with organization as we move through labs and work with a variety of sample files and datasets.\n",
        "\n",
        "109. Work through the [\"First Steps with Spyder\" resources](https://docs.spyder-ide.org/current/first-steps-with-spyder.html) provided by Spyder. That includes two 3.5 minute videos that introduce you to the basics of the Spyder IDE and how to get started with Python in Spyder.\n",
        "\n",
        "<blockquote>QA: How is Spyder different than previous IDEs? What do you see as strengths/advantages? What do you see as possible challenges?</blockquote>\n",
        "\n",
        "<blockquote>OPTIONAL: Take a <code>.py</code> lab notebook file and load it into Spyder. Explore how the program runs in a different IDE. In particular, explore Spyder's options to run portions or a selection of the larger program. How does this change the way you interact with the program?</blockquote>\n"
      ],
      "metadata": {
        "id": "vte_2a3i7Z0p"
      },
      "id": "vte_2a3i7Z0p"
    },
    {
      "cell_type": "markdown",
      "source": [
        "# Debugging\n",
        "\n",
        "110. To paraphrase an old programming joke, writing code is 90% of the work of programming. Debugging is the other 90%.\n",
        "\n",
        "111. You've been working on a program for hours, your head hurts, and something still isn't working. We all know a version of that feeling.\n",
        "\n",
        "112. There's no easy solution that will prevent all problems (or \"bugs\") in your code. But having strategies for testing your code, recognizing and making sense of error messages, and methodically debugging your code can help immensely.\n",
        "\n",
        "113. Python errors will usually fall into three types: syntax, runtime, and semantic.\n",
        "\n",
        "114. Syntax refers to the structure of a program and rules about that structure. \n",
        "\n",
        "115. ***Syntax errors*** involve things like indentation, parenthesis, etc. The Python interpreter expects the language to be structured a specific way, and throws a syntax error when it's not.\n",
        "\n",
        "116. ***Runtime errors***, or ***exceptions***: appears after a program has started running. These errors indicate something unexpected has happened that interrupts or stops the program execution. \n",
        "\n",
        "117. Things that can cause a runtime error include:\n",
        "- Misspelled or incorrectly capitalized variables or function names\n",
        "- Dividing by zero\n",
        "- Mismatched data types (i.e. attempting to perform operations on data of the wrong type)\n",
        "- Attempting to use a type conversion function on a value that can't be converted\n",
        "\n",
        "118. Semantic: relates to meaning. \n",
        "\n",
        "119. ***Semantic errors*** have to do with the meaning (or purpose/intent) of your code. Semantic errors don't show up as error messages-but the program will not do what you expect it to do. \n",
        "\n",
        "120. The debugging strategies discussed here will focus on semantic errors but are useful for all types of errors."
      ],
      "metadata": {
        "id": "ltmVd-te7a1N"
      },
      "id": "ltmVd-te7a1N"
    },
    {
      "cell_type": "markdown",
      "source": [
        "\n",
        "## Stepwise debugging in Spyder\n",
        "\n",
        "121. Spyder will catch many syntax and runtime errors. \n",
        "\n",
        "122. Hover over a red `X` by any of your lines of code to see more information about a possible error.\n",
        "\n",
        "123. Spyder integrates the enhanced `ipdb` debugger, which gives you robust options for troubleshooting or debugging your code.\n",
        "\n",
        "124. Specifically, the debugger will let you run a program line by line, running a single line of code and waiting for you to tell it to continue.\n",
        "\n",
        "125. Running your program through this kind of debugging is immensely valuable for tracking down bugs or catching complex issues in a program.\n",
        "\n",
        "126. This mode of debugging includes the following possible steps or \"moves\":\n",
        "- Continue (run the program until the next breakpoint)\n",
        "- Step in (executes the next line of code; if the next line of code is a function, the debugger will 'step into' the first line of that function)\n",
        "- Step over (executes the next line of code, but will not go line-by-line through the function; the debugger 'steps over' the function code and waits for the function call to return)\n",
        "- Step out (lets you step out of a function if you used step in and want to 'step out' of the function)\n",
        "- Stop (stops debugging and terminates the program)\n",
        "\n",
        "<p align=\"center\"><a href=\"https://github.com/kwaldenphd/python-spyder/blob/main/images/Figure_3.png?raw=true\"><img class=\"aligncenter\" src=\"https://github.com/kwaldenphd/python-spyder/blob/main/images/Figure_3.png?raw=true\" /></a></p>\n",
        "\n",
        "<p align=\"center\"><a href=\"https://github.com/kwaldenphd/python-spyder/blob/main/images/Figure_4.png?raw=true\"><img class=\"aligncenter\" src=\"https://github.com/kwaldenphd/python-spyder/blob/main/images/Figure_4.png?raw=true\" /></a></p>\n",
        "\n",
        "127. Let's use this approach and Spyder functionality to debug a number adding program."
      ],
      "metadata": {
        "id": "L8O1u4qE7dbv"
      },
      "id": "L8O1u4qE7dbv"
    },
    {
      "cell_type": "code",
      "source": [
        "print('Enter the first number to add: ')\n",
        "first = input()\n",
        "print('Enter the second number to add: ')\n",
        "second = input()\n",
        "print('Enter the third number to add: ')\n",
        "third = input()\n",
        "print('The sum is ' + first + second + third)"
      ],
      "metadata": {
        "id": "-5Em4Yf67ehe"
      },
      "id": "-5Em4Yf67ehe",
      "execution_count": null,
      "outputs": []
    },
    {
      "cell_type": "markdown",
      "source": [
        "128. First run the program without the debugger enabled. What happens?\n",
        "\n",
        "129. Debug the file going line-by-line. Remember to use `Step Over` to execute functions without going into each line of the function code.\n",
        "- Functions in this sample program include `print()` and `input()`\n",
        "- You can always `Step Out` if you accidently step into a function\n",
        "\n",
        "<blockquote>QB: What type of error does this program return (syntax, runtime, semantic) and why? How would we go about modifying the program to address this error?</blockquote>\n",
        "\n",
        "## Other approaches to debugging\n",
        "\n",
        "130. If you've never put a `print()` statement in your code to output a variable's value while the program is running, you have used a form of `logging` to debug your code.\n",
        "\n",
        "131. Python's `logging` module lets you record custom messages that output as part of your program. \n",
        "\n",
        "132. These `log` messages describe when the program reaches a point where a logging function is called and what variables have been specified at that point.\n",
        "\n",
        "133. Step one is to import the `logging` module and set up basic configuration for the module at the top of your `.py` file.\n"
      ],
      "metadata": {
        "id": "NTXIudAl7fi0"
      },
      "id": "NTXIudAl7fi0"
    },
    {
      "cell_type": "code",
      "source": [
        "import logging\n",
        "logging.basicConfig(level=logging.DEBUG, format=' %(asctime)s - %(levelname)s - %(message)s')"
      ],
      "metadata": {
        "id": "mz9zVKh37gUk"
      },
      "id": "mz9zVKh37gUk",
      "execution_count": null,
      "outputs": []
    },
    {
      "cell_type": "markdown",
      "source": [
        "134. This configuration information instructs Python to create a `LogRecord` object when a logging function is called, and to include specific information about that event in the `LogRecord` object.\n",
        "\n",
        "135. So how would we use the `logging` module when writing a program?\n",
        "\n",
        "136. Say we were creating a function that calcualted the factorial of a given number.\n",
        "- Factorial 4 is 1 x 2 x 3 x 4 = 24\n",
        "- Factorial 7 is 1 x 2 x 3 x 4 x 5 x 6 x 7 = 5040\n"
      ],
      "metadata": {
        "id": "dDJ0TeoK7hRH"
      },
      "id": "dDJ0TeoK7hRH"
    },
    {
      "cell_type": "code",
      "source": [
        "import logging\n",
        "logging.basicConfig(level=logging.DEBUG, format=' %(asctime)s - %(levelname)s - %(message)s')\n",
        "logging.debug('Start of program')\n",
        "\n",
        "def factorial(n):\n",
        "  logging.debug('Start of factorial(%s%%)' % (n))\n",
        "  total = 1\n",
        "  for i in range(n + 1):\n",
        "    total *= i\n",
        "    logging.debug('i is ' + str(i) + ', total is ' + str(total))\n",
        "  logging.debug('End of factorial(%s%%)' % (n))\n",
        "  return total\n",
        "\n",
        "print(factorial(5))\n",
        "logging.debug('End of program')"
      ],
      "metadata": {
        "id": "EDgqtFE17iHn"
      },
      "id": "EDgqtFE17iHn",
      "execution_count": null,
      "outputs": []
    },
    {
      "cell_type": "markdown",
      "source": [
        "137. Anytime we call the `logging.debug()` function, the configuration information from the start of the file governs the log formatting and messages.\n",
        "\n",
        "<blockquote>QC: What happens when we run this program? What kinds of log messages do we get, and what information do they give us?</blockquote>\n",
        "\n",
        "<blockquote>QD: Is this program doing what we expect? Where would you go next with debugging or addressing the error?</blockquote>\n",
        "\n",
        "## But why can't I debug using `print()`\n",
        "\n",
        "138. It can seem unwieldy to configure the `logging` module and write lines of code dedicated just to logging what's happening in your program.\n",
        "\n",
        "139. But think about the factorial example. Log messages led us right to the program's issue. \n",
        "\n",
        "140. Trying to debug using `print()` calls means you'll have to go back through each line of your program to remove `print()` statements used for debugging (while also making sure you aren't removing `print()` statements that are a component of the actual program).\n",
        "\n",
        "141. Think of the `logging` module as a report that generates alongside your program output as it executes. The program executes and you also have useful log information about what happened along the way.\n",
        "\n",
        "142. Once you're done debugging the program, you can add the `logging.disable()` function to the start of your program to supress the log messages without actually having to modify your program.\n",
        "\n",
        "<blockquote>Visit Python's <a href=\"https://docs.python.org/3/howto/logging.html\">Logging HOWTO</a> documentation to learn more about the logging module.</blockquote>\n",
        "\n",
        "<blockquote>QE: What are your thoughts on this approach to identifying what's happening in your program? What seems appealing? What seems challenging? When or how could this approach be useful?</blockquote>"
      ],
      "metadata": {
        "id": "P5ZRiylZ7jSy"
      },
      "id": "P5ZRiylZ7jSy"
    },
    {
      "cell_type": "markdown",
      "source": [
        "# Lab Notebook Questions\n",
        "\n",
        "Lab notebook template:\n",
        "- [Jupyter Notebook](https://drive.google.com/file/d/1vyK7r5MV6WSDPLSm_XiTRouyYW8uaNl_/view?usp=sharing)\n",
        "\n",
        "<table>\n",
        " <tr><td>\n",
        "<img src=\"https://elearn.southampton.ac.uk/wp-content/blogs.dir/sites/64/2021/04/PanPan.png\" alt=\"Panopto logo\" width=\"50\"/></td>\n",
        "  <td><a href=\"https://notredame.hosted.panopto.com/Panopto/Pages/Viewer.aspx?id=84e1b391-1a01-4278-89cf-add90133047d\">Working With the Lab Notebook Template</a></td>\n",
        "  </tr>\n",
        "  </table>\n",
        "\n",
        "NOTE: As Q6 specifes, remember to submit two versions of your lab notebook on Canvas- a Jupyter Notebook (`.ipynb`) file and a PDF (a process we work through in an earlier section of the lab).\n",
        "\n",
        "Q1: Use the Anaconda or Jupyter terminal to install the four libraries mentioned in step 55 (numpy, scikit-learn, pandas, matplotlib). Describe your experience installing these libraries using the available/provided documentation. What did you expect to happen? What challenges did you face? How did you solve them?\n",
        "\n",
        "Q2: Write import statements for each of the libraries you installed in Q1. What did you expect to happen? What challenges did you face (if any)?"
      ],
      "metadata": {
        "id": "-F9PR2Lz7l4Y"
      },
      "id": "-F9PR2Lz7l4Y"
    },
    {
      "cell_type": "code",
      "source": [
        "# import pandas \n",
        "import pandas\n",
        "\n",
        "# import pandas using pd alias\n",
        "import pandas as pd"
      ],
      "metadata": {
        "id": "GUzrR3oX7tQK"
      },
      "id": "GUzrR3oX7tQK",
      "execution_count": null,
      "outputs": []
    },
    {
      "cell_type": "code",
      "source": [
        "# import numpy\n",
        "import numpy\n",
        "\n",
        "# import numpy using np alias\n",
        "import numpy as np"
      ],
      "metadata": {
        "id": "tRUHSMRH7sX1"
      },
      "id": "tRUHSMRH7sX1",
      "execution_count": null,
      "outputs": []
    },
    {
      "cell_type": "code",
      "source": [
        "# import scikit-learn\n",
        "import sklearn\n",
        "\n",
        "# import datasets module from scikit-learn\n",
        "from sklearn import datasets\n",
        "\n",
        "# import linear models from scikit-learn\n",
        "from sklearn import linear_model"
      ],
      "metadata": {
        "id": "f_EsN5IW7rYR"
      },
      "id": "f_EsN5IW7rYR",
      "execution_count": null,
      "outputs": []
    },
    {
      "cell_type": "code",
      "source": [
        "# import matplotlib\n",
        "import matplotlib.pyplot\n",
        "\n",
        "# import matplotlib using plt alias\n",
        "import matplotlib.pyplot as plt"
      ],
      "metadata": {
        "id": "ye6Krj3j7qjh"
      },
      "id": "ye6Krj3j7qjh",
      "execution_count": null,
      "outputs": []
    },
    {
      "cell_type": "markdown",
      "source": [
        "- Heading (h1, h2, h3, etc)\n",
        "- Italics or bold text formatting\n",
        "- Unordered (or bulleted point) list\n",
        "- Link\n",
        "\n",
        "NOTE: You will want to reference Adam Pritchard's [Markdown Cheatsheet](https://github.com/adam-p/markdown-here/wiki/Markdown-Cheatsheet) resource when working on this question. \n",
        "\n",
        "Q4: In a code cell, write a simple Python program (or programs) that includes the following functions:\n",
        "- `input()`\n",
        "- `print()`\n",
        "\n",
        "You are welcome to use a program (or programs) you've written for previous labs- original code is not required for this question. The main point for this question is to see how a Jupyter Notebook code cell executes a program.\n",
        "\n",
        "Q5: Compare your experience working in different Python IDEs. What seems appealing about each? What seems challenging? Based on this experience, what is your preference, or are there situations in which you'd prefer one over the other?\n",
        "\n",
        "Q6: After working through the previous steps, export your notebook for this lab as a PDF. Submit both the Jupyter Notebook (.ipynb) and PDF file on Canvas.\n",
        "\n",
        "OPTIONAL SPYDER QUESTIONS:\n",
        "\n",
        "QA: How is Spyder different than previous IDEs? What do you see as strengths/advantages? What do you see as possible challenges?\n",
        "\n",
        "QB: What type of error does this program return (syntax, runtime, semantic) and why? How would we go about modifying the program to address this error?\n",
        "\n",
        "QC: What happens when we run this program? What kinds of log messages do we get, and what information do they give us?\n",
        "\n",
        "QD: Is this program doing what we expect? Where would you go next with debugging or addressing the error?\n",
        "\n",
        "QE: What are your thoughts on this approach to identifying what's happening in your program? What seems appealing? What seems challenging? When or how could this approach be useful?"
      ],
      "metadata": {
        "id": "leo2H_7-7oLj"
      },
      "id": "leo2H_7-7oLj"
    },
    {
      "cell_type": "code",
      "source": [
        ""
      ],
      "metadata": {
        "id": "pzEOHkDM7lT2"
      },
      "id": "pzEOHkDM7lT2",
      "execution_count": null,
      "outputs": []
    }
  ],
  "metadata": {
    "kernelspec": {
      "display_name": "Python 3",
      "language": "python",
      "name": "python3"
    },
    "language_info": {
      "codemirror_mode": {
        "name": "ipython",
        "version": 3
      },
      "file_extension": ".py",
      "mimetype": "text/x-python",
      "name": "python",
      "nbconvert_exporter": "python",
      "pygments_lexer": "ipython3",
      "version": "3.8.8"
    },
    "colab": {
      "name": "python-jupyter-notebook-procedure.ipynb",
      "provenance": [],
      "toc_visible": true,
      "include_colab_link": true
    }
  },
  "nbformat": 4,
  "nbformat_minor": 5
}